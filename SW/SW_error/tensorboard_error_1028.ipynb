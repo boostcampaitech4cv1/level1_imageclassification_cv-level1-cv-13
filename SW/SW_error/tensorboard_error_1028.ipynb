{
 "cells": [
  {
   "cell_type": "code",
   "execution_count": 1,
   "metadata": {},
   "outputs": [],
   "source": [
    "# 텐서보드 실행시 아래 문구를 포함한 에러가 발생\n",
    "# urllib3 (1.26.12) or chardet (3.0.4) doesn't match a supported version!"
   ]
  },
  {
   "cell_type": "code",
   "execution_count": 3,
   "metadata": {},
   "outputs": [],
   "source": [
    "# 텐서보드 실행이 되는 팀원과 텐서보드 등의 버전을 맞춰보았고\n",
    "# requests 모듈의 버전이 낮아서 문제임을 알게 됐고"
   ]
  },
  {
   "cell_type": "code",
   "execution_count": null,
   "metadata": {},
   "outputs": [],
   "source": [
    "# pip install --upgrade requests==2.xx.x\n",
    "# 코드를 통해 팀원과 같은 버전의 requests를 업데이트한 후에 오류를 해결했다"
   ]
  }
 ],
 "metadata": {
  "kernelspec": {
   "display_name": "Python 3.8.5 ('base')",
   "language": "python",
   "name": "python3"
  },
  "language_info": {
   "codemirror_mode": {
    "name": "ipython",
    "version": 3
   },
   "file_extension": ".py",
   "mimetype": "text/x-python",
   "name": "python",
   "nbconvert_exporter": "python",
   "pygments_lexer": "ipython3",
   "version": "3.8.5"
  },
  "orig_nbformat": 4,
  "vscode": {
   "interpreter": {
    "hash": "d4d1e4263499bec80672ea0156c357c1ee493ec2b1c70f0acce89fc37c4a6abe"
   }
  }
 },
 "nbformat": 4,
 "nbformat_minor": 2
}
